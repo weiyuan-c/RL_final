{
 "cells": [
  {
   "cell_type": "code",
   "execution_count": 12,
   "metadata": {},
   "outputs": [],
   "source": [
    "import torch\n",
    "import clip\n",
    "import numpy as np\n",
    "a = ['a', 'b', None, None]"
   ]
  },
  {
   "cell_type": "code",
   "execution_count": 13,
   "metadata": {},
   "outputs": [
    {
     "name": "stdout",
     "output_type": "stream",
     "text": [
      "[[None]\n",
      " [None]\n",
      " [None]\n",
      " [None]]\n"
     ]
    }
   ],
   "source": [
    "a = np.full((4, 1), None)\n",
    "print(a)"
   ]
  },
  {
   "cell_type": "code",
   "execution_count": 19,
   "metadata": {},
   "outputs": [
    {
     "data": {
      "text/plain": [
       "[]"
      ]
     },
     "execution_count": 19,
     "metadata": {},
     "output_type": "execute_result"
    }
   ],
   "source": [
    "np.squeeze(a, axis=1).tolist()[:0]"
   ]
  },
  {
   "cell_type": "code",
   "execution_count": 9,
   "metadata": {},
   "outputs": [],
   "source": [
    "model, preprocess = clip.load(\"ViT-B/32\", device=\"cuda\")"
   ]
  },
  {
   "cell_type": "code",
   "execution_count": 11,
   "metadata": {},
   "outputs": [
    {
     "name": "stdout",
     "output_type": "stream",
     "text": [
      "torch.Size([2, 77])\n"
     ]
    }
   ],
   "source": [
    "tokens = clip.tokenize([\"microwave\", \"microwave\"])\n",
    "print(tokens.shape)"
   ]
  },
  {
   "cell_type": "code",
   "execution_count": 2,
   "metadata": {},
   "outputs": [],
   "source": [
    "import torch\n",
    "import clip\n",
    "from PIL import Image\n",
    "\n",
    "device = \"cuda\" if torch.cuda.is_available() else \"cpu\"\n",
    "model, preprocess = clip.load(\"ViT-B/32\", device=device)\n",
    "\n",
    "text = clip.tokenize(\"a man is hopping\").to(device)\n",
    "\n",
    "with torch.no_grad():\n",
    "    text_features = model.encode_text(text)"
   ]
  },
  {
   "cell_type": "code",
   "execution_count": 1,
   "metadata": {},
   "outputs": [
    {
     "name": "stdout",
     "output_type": "stream",
     "text": [
      "torch.Size([64, 128])\n"
     ]
    }
   ],
   "source": [
    "import torch\n",
    "from torch import nn\n",
    "\n",
    "x = torch.randn(64, 11)\n",
    "n = nn.Linear(11, 128)\n",
    "print(n(x).shape)"
   ]
  },
  {
   "cell_type": "code",
   "execution_count": 1,
   "metadata": {},
   "outputs": [
    {
     "name": "stdout",
     "output_type": "stream",
     "text": [
      "[tensor([[1., 1., 1.],\n",
      "        [1., 1., 1.]]), tensor([[0.],\n",
      "        [0.]])]\n"
     ]
    }
   ],
   "source": [
    "import torch\n",
    "x = torch.ones(2, 3).tolist()\n",
    "y = torch.zeros(2, 1)\n",
    "print([x, y])"
   ]
  },
  {
   "cell_type": "code",
   "execution_count": 16,
   "metadata": {},
   "outputs": [],
   "source": [
    "from helpers import Conv1dBlock\n",
    "from torch import nn\n",
    "\n",
    "inp_channels = 16\n",
    "out_channels = 8\n",
    "kernel_size = 1\n",
    "mish = False\n",
    "\n",
    "blocks = nn.Sequential(\n",
    "    Conv1dBlock(inp_channels, out_channels, kernel_size, mish),\n",
    "    # Conv1dBlock(out_channels, out_channels, kernel_size, mish),\n",
    ")"
   ]
  },
  {
   "cell_type": "code",
   "execution_count": 3,
   "metadata": {},
   "outputs": [
    {
     "name": "stdout",
     "output_type": "stream",
     "text": [
      "tensor([[[2., 2., 2., 2.],\n",
      "         [2., 2., 2., 2.]]])\n"
     ]
    }
   ],
   "source": [
    "import torch\n",
    "\n",
    "x = torch.ones(1, 2, 4)\n",
    "y = torch.ones(1, 2, 1)\n",
    "print(x + y)"
   ]
  },
  {
   "cell_type": "code",
   "execution_count": null,
   "metadata": {},
   "outputs": [],
   "source": [
    "from torch import nn\n",
    "\n",
    "class MyModel(nn.Module):\n",
    "    def __init__(self) -> None:\n",
    "        super().__init__()\n",
    "        self.l1 = nn.Linear(10, 10)\n",
    "    def forward(self, x):\n",
    "        return self.l1(x)\n",
    "\n",
    "class Dif(nn.Module):\n",
    "    def __init__(self) -> None:\n",
    "        super().__init__()\n",
    "        self.m = model\n",
    "        self.l2 = nn.Linear(10, 10)\n",
    "    def loss(self, x):\n",
    "        x = self.model(x)\n",
    "        return self.l2(x)\n",
    "    def forward(self, x):\n",
    "        return self.l2(x)"
   ]
  }
 ],
 "metadata": {
  "kernelspec": {
   "display_name": "decdiff",
   "language": "python",
   "name": "python3"
  },
  "language_info": {
   "codemirror_mode": {
    "name": "ipython",
    "version": 3
   },
   "file_extension": ".py",
   "mimetype": "text/x-python",
   "name": "python",
   "nbconvert_exporter": "python",
   "pygments_lexer": "ipython3",
   "version": "3.8.18"
  }
 },
 "nbformat": 4,
 "nbformat_minor": 2
}
